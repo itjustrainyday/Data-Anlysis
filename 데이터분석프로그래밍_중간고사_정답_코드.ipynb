{
  "nbformat": 4,
  "nbformat_minor": 0,
  "metadata": {
    "colab": {
      "provenance": []
    },
    "kernelspec": {
      "name": "python3",
      "display_name": "Python 3"
    },
    "language_info": {
      "name": "python"
    }
  },
  "cells": [
    {
      "cell_type": "markdown",
      "source": [
        "**데이터분석프로그래밍 중간고사 정답 코드**"
      ],
      "metadata": {
        "id": "UJcFGmeIkuNg"
      }
    },
    {
      "cell_type": "markdown",
      "source": [
        "1) example file.csv 파일을 업로드하여 파일에 있는 데이터로 dataframe을 생성하는 코드를 작성하시오."
      ],
      "metadata": {
        "id": "JK5n9MX5s1my"
      }
    },
    {
      "cell_type": "code",
      "execution_count": null,
      "metadata": {
        "colab": {
          "base_uri": "https://localhost:8080/",
          "height": 76
        },
        "id": "EscTHIrFkju-",
        "outputId": "0a405183-cd63-4802-83e1-0d71c78ad393"
      },
      "outputs": [
        {
          "output_type": "display_data",
          "data": {
            "text/plain": [
              "<IPython.core.display.HTML object>"
            ],
            "text/html": [
              "\n",
              "     <input type=\"file\" id=\"files-42627ea7-e9be-4977-a024-3b051ca3e6f1\" name=\"files[]\" multiple disabled\n",
              "        style=\"border:none\" />\n",
              "     <output id=\"result-42627ea7-e9be-4977-a024-3b051ca3e6f1\">\n",
              "      Upload widget is only available when the cell has been executed in the\n",
              "      current browser session. Please rerun this cell to enable.\n",
              "      </output>\n",
              "      <script>// Copyright 2017 Google LLC\n",
              "//\n",
              "// Licensed under the Apache License, Version 2.0 (the \"License\");\n",
              "// you may not use this file except in compliance with the License.\n",
              "// You may obtain a copy of the License at\n",
              "//\n",
              "//      http://www.apache.org/licenses/LICENSE-2.0\n",
              "//\n",
              "// Unless required by applicable law or agreed to in writing, software\n",
              "// distributed under the License is distributed on an \"AS IS\" BASIS,\n",
              "// WITHOUT WARRANTIES OR CONDITIONS OF ANY KIND, either express or implied.\n",
              "// See the License for the specific language governing permissions and\n",
              "// limitations under the License.\n",
              "\n",
              "/**\n",
              " * @fileoverview Helpers for google.colab Python module.\n",
              " */\n",
              "(function(scope) {\n",
              "function span(text, styleAttributes = {}) {\n",
              "  const element = document.createElement('span');\n",
              "  element.textContent = text;\n",
              "  for (const key of Object.keys(styleAttributes)) {\n",
              "    element.style[key] = styleAttributes[key];\n",
              "  }\n",
              "  return element;\n",
              "}\n",
              "\n",
              "// Max number of bytes which will be uploaded at a time.\n",
              "const MAX_PAYLOAD_SIZE = 100 * 1024;\n",
              "\n",
              "function _uploadFiles(inputId, outputId) {\n",
              "  const steps = uploadFilesStep(inputId, outputId);\n",
              "  const outputElement = document.getElementById(outputId);\n",
              "  // Cache steps on the outputElement to make it available for the next call\n",
              "  // to uploadFilesContinue from Python.\n",
              "  outputElement.steps = steps;\n",
              "\n",
              "  return _uploadFilesContinue(outputId);\n",
              "}\n",
              "\n",
              "// This is roughly an async generator (not supported in the browser yet),\n",
              "// where there are multiple asynchronous steps and the Python side is going\n",
              "// to poll for completion of each step.\n",
              "// This uses a Promise to block the python side on completion of each step,\n",
              "// then passes the result of the previous step as the input to the next step.\n",
              "function _uploadFilesContinue(outputId) {\n",
              "  const outputElement = document.getElementById(outputId);\n",
              "  const steps = outputElement.steps;\n",
              "\n",
              "  const next = steps.next(outputElement.lastPromiseValue);\n",
              "  return Promise.resolve(next.value.promise).then((value) => {\n",
              "    // Cache the last promise value to make it available to the next\n",
              "    // step of the generator.\n",
              "    outputElement.lastPromiseValue = value;\n",
              "    return next.value.response;\n",
              "  });\n",
              "}\n",
              "\n",
              "/**\n",
              " * Generator function which is called between each async step of the upload\n",
              " * process.\n",
              " * @param {string} inputId Element ID of the input file picker element.\n",
              " * @param {string} outputId Element ID of the output display.\n",
              " * @return {!Iterable<!Object>} Iterable of next steps.\n",
              " */\n",
              "function* uploadFilesStep(inputId, outputId) {\n",
              "  const inputElement = document.getElementById(inputId);\n",
              "  inputElement.disabled = false;\n",
              "\n",
              "  const outputElement = document.getElementById(outputId);\n",
              "  outputElement.innerHTML = '';\n",
              "\n",
              "  const pickedPromise = new Promise((resolve) => {\n",
              "    inputElement.addEventListener('change', (e) => {\n",
              "      resolve(e.target.files);\n",
              "    });\n",
              "  });\n",
              "\n",
              "  const cancel = document.createElement('button');\n",
              "  inputElement.parentElement.appendChild(cancel);\n",
              "  cancel.textContent = 'Cancel upload';\n",
              "  const cancelPromise = new Promise((resolve) => {\n",
              "    cancel.onclick = () => {\n",
              "      resolve(null);\n",
              "    };\n",
              "  });\n",
              "\n",
              "  // Wait for the user to pick the files.\n",
              "  const files = yield {\n",
              "    promise: Promise.race([pickedPromise, cancelPromise]),\n",
              "    response: {\n",
              "      action: 'starting',\n",
              "    }\n",
              "  };\n",
              "\n",
              "  cancel.remove();\n",
              "\n",
              "  // Disable the input element since further picks are not allowed.\n",
              "  inputElement.disabled = true;\n",
              "\n",
              "  if (!files) {\n",
              "    return {\n",
              "      response: {\n",
              "        action: 'complete',\n",
              "      }\n",
              "    };\n",
              "  }\n",
              "\n",
              "  for (const file of files) {\n",
              "    const li = document.createElement('li');\n",
              "    li.append(span(file.name, {fontWeight: 'bold'}));\n",
              "    li.append(span(\n",
              "        `(${file.type || 'n/a'}) - ${file.size} bytes, ` +\n",
              "        `last modified: ${\n",
              "            file.lastModifiedDate ? file.lastModifiedDate.toLocaleDateString() :\n",
              "                                    'n/a'} - `));\n",
              "    const percent = span('0% done');\n",
              "    li.appendChild(percent);\n",
              "\n",
              "    outputElement.appendChild(li);\n",
              "\n",
              "    const fileDataPromise = new Promise((resolve) => {\n",
              "      const reader = new FileReader();\n",
              "      reader.onload = (e) => {\n",
              "        resolve(e.target.result);\n",
              "      };\n",
              "      reader.readAsArrayBuffer(file);\n",
              "    });\n",
              "    // Wait for the data to be ready.\n",
              "    let fileData = yield {\n",
              "      promise: fileDataPromise,\n",
              "      response: {\n",
              "        action: 'continue',\n",
              "      }\n",
              "    };\n",
              "\n",
              "    // Use a chunked sending to avoid message size limits. See b/62115660.\n",
              "    let position = 0;\n",
              "    do {\n",
              "      const length = Math.min(fileData.byteLength - position, MAX_PAYLOAD_SIZE);\n",
              "      const chunk = new Uint8Array(fileData, position, length);\n",
              "      position += length;\n",
              "\n",
              "      const base64 = btoa(String.fromCharCode.apply(null, chunk));\n",
              "      yield {\n",
              "        response: {\n",
              "          action: 'append',\n",
              "          file: file.name,\n",
              "          data: base64,\n",
              "        },\n",
              "      };\n",
              "\n",
              "      let percentDone = fileData.byteLength === 0 ?\n",
              "          100 :\n",
              "          Math.round((position / fileData.byteLength) * 100);\n",
              "      percent.textContent = `${percentDone}% done`;\n",
              "\n",
              "    } while (position < fileData.byteLength);\n",
              "  }\n",
              "\n",
              "  // All done.\n",
              "  yield {\n",
              "    response: {\n",
              "      action: 'complete',\n",
              "    }\n",
              "  };\n",
              "}\n",
              "\n",
              "scope.google = scope.google || {};\n",
              "scope.google.colab = scope.google.colab || {};\n",
              "scope.google.colab._files = {\n",
              "  _uploadFiles,\n",
              "  _uploadFilesContinue,\n",
              "};\n",
              "})(self);\n",
              "</script> "
            ]
          },
          "metadata": {}
        },
        {
          "output_type": "stream",
          "name": "stdout",
          "text": [
            "Saving example file.csv to example file (1).csv\n"
          ]
        }
      ],
      "source": [
        "from google.colab import files\n",
        "uploaded = files.upload()"
      ]
    },
    {
      "cell_type": "code",
      "source": [
        "import pandas as pd\n",
        "\n",
        "df = pd.read_csv(\"example file.csv\")"
      ],
      "metadata": {
        "id": "U1F2wuGTupF2"
      },
      "execution_count": null,
      "outputs": []
    },
    {
      "cell_type": "markdown",
      "source": [
        "2) 생성된 dataframe에 대해서 하위 10개 row를 출력할 수 있는 코드를 작성하시오.\n",
        "\n",
        "3) 생성된 dataframe에 대해서 행과 열의 갯수를 출력할 수 있는 코드를 작성하시오.\n",
        "\n",
        "4) 생성된 dataframe에 대해서 수치형 데이터에 대한 주요 통계 정보를 요약하여 출력하는 코드를 작성하시오."
      ],
      "metadata": {
        "id": "bR8EWUsvu2hC"
      }
    },
    {
      "cell_type": "code",
      "source": [
        "print(df.tail(10))\n",
        "print(df.shape)\n",
        "print(df.describe())"
      ],
      "metadata": {
        "colab": {
          "base_uri": "https://localhost:8080/"
        },
        "id": "bAGsRt8_u2sk",
        "outputId": "ebe297ee-d1ed-4206-b4f2-5823a646d8b9"
      },
      "execution_count": null,
      "outputs": [
        {
          "output_type": "stream",
          "name": "stdout",
          "text": [
            "     gender race/ethnicity parental level of education         lunch  \\\n",
            "990    male        group D                some college      standard   \n",
            "991  female        group C          associate's degree      standard   \n",
            "992    male        group C                some college      standard   \n",
            "993  female        group A          associate's degree      standard   \n",
            "994    male        group E                 high school  free/reduced   \n",
            "995    male        group C                 high school      standard   \n",
            "996    male        group D          associate's degree  free/reduced   \n",
            "997  female        group C            some high school  free/reduced   \n",
            "998  female        group C                some college      standard   \n",
            "999    male        group A                some college      standard   \n",
            "\n",
            "    test preparation course  math score  reading score  writing score  \n",
            "990                    none          67             55             53  \n",
            "991                    none          87             93             88  \n",
            "992                    none          69             63             66  \n",
            "993                    none          58             54             58  \n",
            "994               completed          86             82             75  \n",
            "995                    none          73             70             65  \n",
            "996               completed          85             91             92  \n",
            "997                    none          32             35             41  \n",
            "998                    none          73             74             82  \n",
            "999               completed          65             60             62  \n",
            "(1000, 8)\n",
            "        math score  reading score  writing score\n",
            "count  1000.000000    1000.000000    1000.000000\n",
            "mean     66.396000      69.002000      67.738000\n",
            "std      15.402871      14.737272      15.600985\n",
            "min      13.000000      27.000000      23.000000\n",
            "25%      56.000000      60.000000      58.000000\n",
            "50%      66.500000      70.000000      68.000000\n",
            "75%      77.000000      79.000000      79.000000\n",
            "max     100.000000     100.000000     100.000000\n"
          ]
        }
      ]
    },
    {
      "cell_type": "markdown",
      "source": [
        "5) 생성된 dataframe의 column 이름을 아래와 같이 변경하는 코드를 작성하고, 상위 5개의 row를 출력해보시오.\n",
        "\n",
        "\n",
        "*   race/ethnicity --> race_ethnicity\n",
        "*   parental level of education --> education\n",
        "*   test preparation course --> preparation_course\n"
      ],
      "metadata": {
        "id": "2UQCjLgAvZDp"
      }
    },
    {
      "cell_type": "code",
      "source": [
        "df = df.rename(columns={\"race/ethnicity\":\"race_ethnicity\",\n",
        "                        \"parental level of education\":\"education\",\n",
        "                        \"test preparation course\":\"preparation_course\"})\n",
        "print(df.head())"
      ],
      "metadata": {
        "colab": {
          "base_uri": "https://localhost:8080/"
        },
        "id": "11ju36UVvZJX",
        "outputId": "78bac94e-3c64-47cf-91df-c470dfbfad7e"
      },
      "execution_count": null,
      "outputs": [
        {
          "output_type": "stream",
          "name": "stdout",
          "text": [
            "   gender race_ethnicity           education         lunch preparation_course  \\\n",
            "0    male        group A         high school      standard          completed   \n",
            "1  female        group D    some high school  free/reduced               none   \n",
            "2    male        group E        some college  free/reduced               none   \n",
            "3    male        group B         high school      standard               none   \n",
            "4    male        group E  associate's degree      standard          completed   \n",
            "\n",
            "   math score  reading score  writing score  \n",
            "0          67             67             63  \n",
            "1          40             59             55  \n",
            "2          59             60             50  \n",
            "3          77             78             68  \n",
            "4          78             73             68  \n"
          ]
        }
      ]
    },
    {
      "cell_type": "markdown",
      "source": [
        "6) race_ethnicity의 각 group별로 male, female 각각 몇개의 row가 있는지 아래 그림과 같은 bar chart를 seaborn, matplotlib를 이용하여 만들어보시오."
      ],
      "metadata": {
        "id": "WehY0SP0xyDJ"
      }
    },
    {
      "cell_type": "code",
      "source": [
        "import seaborn as sns\n",
        "import matplotlib.pyplot as plt\n",
        "\n",
        "sns.countplot(data=df, x=df[\"race_ethnicity\"], hue=df[\"gender\"], palette=\"bone\")\n",
        "plt.xlabel(\"Race/Ethnicity\")\n",
        "plt.ylabel(\"Frequency\")\n",
        "plt.show()"
      ],
      "metadata": {
        "colab": {
          "base_uri": "https://localhost:8080/",
          "height": 279
        },
        "id": "qdI7BWCtxyJw",
        "outputId": "38bc4cbd-1afe-441d-9e93-6c1a28dc0a51"
      },
      "execution_count": null,
      "outputs": [
        {
          "output_type": "display_data",
          "data": {
            "text/plain": [
              "<Figure size 432x288 with 1 Axes>"
            ],
            "image/png": "[encoded data removed]"
          },
          "metadata": {
            "needs_background": "light"
          }
        }
      ]
    },
    {
      "cell_type": "markdown",
      "source": [
        "7) 세 개의 시험 점수들 (math score, reading score, writing score) 사이의 상호 correlation을 heatmap으로 표현할 수 있는 코드를 seaborn을 이용하여 작성하시오. (아래와 같은 그림이 나와야 함)"
      ],
      "metadata": {
        "id": "IS1CP6fx3Rby"
      }
    },
    {
      "cell_type": "code",
      "source": [
        "df_score = df[[\"math score\", \"reading score\", \"writing score\"]]\n",
        "corr = df_score.corr()\n",
        "sns.heatmap(corr, annot=True, cmap='coolwarm')"
      ],
      "metadata": {
        "colab": {
          "base_uri": "https://localhost:8080/",
          "height": 288
        },
        "id": "Xz-Ri2rf3Rii",
        "outputId": "00b7025a-92b1-4785-9b57-1809cf050e18"
      },
      "execution_count": null,
      "outputs": [
        {
          "output_type": "execute_result",
          "data": {
            "text/plain": [
              "<matplotlib.axes._subplots.AxesSubplot at 0x7f7f6cae5110>"
            ]
          },
          "metadata": {},
          "execution_count": 9
        },
        {
          "output_type": "display_data",
          "data": {
            "text/plain": [
              "<Figure size 432x288 with 2 Axes>"
            ],
            "image/png": "[encoded data removed]"
          },
          "metadata": {
            "needs_background": "light"
          }
        }
      ]
    },
    {
      "cell_type": "markdown",
      "source": [
        "8) 세 개의 시험 점수들 (math score, reading score, writing score)의 값의 분포를 histogram을 이용하여 만들어보시오. (아래와 같은 그림이 나와야 함)"
      ],
      "metadata": {
        "id": "3rKH035J4Coa"
      }
    },
    {
      "cell_type": "code",
      "source": [
        "df_score = df[[\"math score\", \"reading score\", \"writing score\"]]\n",
        "df_score.hist(figsize=(10,8));"
      ],
      "metadata": {
        "colab": {
          "base_uri": "https://localhost:8080/",
          "height": 499
        },
        "id": "V2HMe42u4Cux",
        "outputId": "578601fc-686a-4602-ffee-17c8ba1f5d3f"
      },
      "execution_count": null,
      "outputs": [
        {
          "output_type": "display_data",
          "data": {
            "text/plain": [
              "<Figure size 720x576 with 4 Axes>"
            ],
            "image/png": "[encoded data removed]"
          },
          "metadata": {
            "needs_background": "light"
          }
        }
      ]
    },
    {
      "cell_type": "markdown",
      "source": [
        "9) 세 개의 시험 점수들(math score, reading score, writing score)을 합하여 score_sum 이라는 새로운 컬럼을 만들고, 결과 확인을 위해 상위 10개의 row를 출력해보시오. 이 과정에서 반드시 apply()와 lambda를 사용하시오."
      ],
      "metadata": {
        "id": "Zfstl4rb5c2K"
      }
    },
    {
      "cell_type": "code",
      "source": [
        "df[\"score_sum\"] = df.apply(lambda x : x[\"math score\"] + x[\"reading score\"] + x[\"writing score\"], axis=1)\n",
        "print(df.head(10))"
      ],
      "metadata": {
        "colab": {
          "base_uri": "https://localhost:8080/"
        },
        "id": "JkCU8V4q5c95",
        "outputId": "5cd7be4c-7a19-44d4-ccbf-4a9202c55adc"
      },
      "execution_count": null,
      "outputs": [
        {
          "output_type": "stream",
          "name": "stdout",
          "text": [
            "   gender race/ethnicity parental level of education         lunch  \\\n",
            "0    male        group A                 high school      standard   \n",
            "1  female        group D            some high school  free/reduced   \n",
            "2    male        group E                some college  free/reduced   \n",
            "3    male        group B                 high school      standard   \n",
            "4    male        group E          associate's degree      standard   \n",
            "5  female        group D                 high school      standard   \n",
            "6  female        group A           bachelor's degree      standard   \n",
            "7    male        group E                some college      standard   \n",
            "8    male        group D                 high school      standard   \n",
            "9    male        group C                some college  free/reduced   \n",
            "\n",
            "  test preparation course  math score  reading score  writing score  score_sum  \n",
            "0               completed          67             67             63        197  \n",
            "1                    none          40             59             55        154  \n",
            "2                    none          59             60             50        169  \n",
            "3                    none          77             78             68        223  \n",
            "4               completed          78             73             68        219  \n",
            "5                    none          63             77             76        216  \n",
            "6                    none          62             59             63        184  \n",
            "7               completed          93             88             84        265  \n",
            "8                    none          63             56             65        184  \n",
            "9                    none          47             42             45        134  \n"
          ]
        }
      ]
    },
    {
      "cell_type": "markdown",
      "source": [
        "10) 세 개의 시험 점수들(math score, reading score, writing score)의 평균을 구하여 새로운 컬럼을 만들어서 값을 넣으시오. 아래 두 가지 방법을 이용하여 평균을 구할 수 있는 코드를 작성하시오.\n",
        "\n",
        "\n",
        "*   func_score_avg_1()이라는 함수는 만들어서 apply(), lambda를 이용하여 평균을 구하는데, func_score_avg_1() 함수는 sum, n이라는 인자를 받는다. sum은 10번 문제에서 구한 score_sum 값을 인자로 넘겨주고, n은 과목의 수를 넘겨준다. 해당 함수를 이용하여 구한 평균값은 score_avg_1이라는 컬럼이름으로 넣는다.\n",
        "*   func_score_avg_2()이라는 함수는 만들어서 apply(), lambda를 이용하여 평균을 구하는데, func_score_avg_2() 함수는 세 과목 점수에 대한 가변매개변수를 받는다. 즉, 세 과목 점수를 가변길이의 tuple형태로 넘겨주고 이를 받을 수 있는 함수를 작성하고, 이를 이용한 평균값은 score_avg_2이라는 컬럼이름으로 넣는다.\n",
        "\n",
        "결과 확인을 위해 상위 10개의 row를 출력해보시오."
      ],
      "metadata": {
        "id": "o6mBm0Kg7jhX"
      }
    },
    {
      "cell_type": "code",
      "source": [
        "def func_score_avg_1(sum, n):\n",
        "    return sum/n\n",
        "\n",
        "def func_score_avg_2(*scores):\n",
        "    sum = 0\n",
        "    for score in scores:\n",
        "        sum += score\n",
        "    return sum/len(scores)\n",
        "\n",
        "df[\"score_avg_1\"] = df.apply(lambda x : func_score_avg_1(x[\"score_sum\"], 3), axis=1)\n",
        "df[\"score_avg_2\"] = df.apply(lambda x : func_score_avg_2(x[\"math score\"], x[\"reading score\"], x[\"writing score\"]), axis=1)\n",
        "\n",
        "#df = df.drop([\"score_avg\"], axis=1)\n",
        "print(df.head(10))"
      ],
      "metadata": {
        "colab": {
          "base_uri": "https://localhost:8080/"
        },
        "id": "WQSnfRqV7joQ",
        "outputId": "c74c1efb-0050-4a6a-e88e-b52bbb4df526"
      },
      "execution_count": null,
      "outputs": [
        {
          "output_type": "stream",
          "name": "stdout",
          "text": [
            "   gender race/ethnicity parental level of education         lunch  \\\n",
            "0    male        group A                 high school      standard   \n",
            "1  female        group D            some high school  free/reduced   \n",
            "2    male        group E                some college  free/reduced   \n",
            "3    male        group B                 high school      standard   \n",
            "4    male        group E          associate's degree      standard   \n",
            "5  female        group D                 high school      standard   \n",
            "6  female        group A           bachelor's degree      standard   \n",
            "7    male        group E                some college      standard   \n",
            "8    male        group D                 high school      standard   \n",
            "9    male        group C                some college  free/reduced   \n",
            "\n",
            "  test preparation course  math score  reading score  writing score  \\\n",
            "0               completed          67             67             63   \n",
            "1                    none          40             59             55   \n",
            "2                    none          59             60             50   \n",
            "3                    none          77             78             68   \n",
            "4               completed          78             73             68   \n",
            "5                    none          63             77             76   \n",
            "6                    none          62             59             63   \n",
            "7               completed          93             88             84   \n",
            "8                    none          63             56             65   \n",
            "9                    none          47             42             45   \n",
            "\n",
            "   score_sum  score_avg_1  score_avg_2  \n",
            "0        197    65.666667    65.666667  \n",
            "1        154    51.333333    51.333333  \n",
            "2        169    56.333333    56.333333  \n",
            "3        223    74.333333    74.333333  \n",
            "4        219    73.000000    73.000000  \n",
            "5        216    72.000000    72.000000  \n",
            "6        184    61.333333    61.333333  \n",
            "7        265    88.333333    88.333333  \n",
            "8        184    61.333333    61.333333  \n",
            "9        134    44.666667    44.666667  \n"
          ]
        }
      ]
    },
    {
      "cell_type": "markdown",
      "source": [
        "11) 평균점수(score_avg_1)가 80점 이상인 학생들만 뽑아서 shape을 이용하여 조건을 만족하는 학생수를 확인하고, education별 학생수를 구하는 코드를 작성하시오."
      ],
      "metadata": {
        "id": "vy-mRtcgCVS_"
      }
    },
    {
      "cell_type": "code",
      "source": [
        "df_higher_80 = df.loc[df[\"score_avg_1\"] >= 80]\n",
        "print(df_higher_80.shape)\n",
        "\n",
        "df_higher_80[\"education\"].value_counts()"
      ],
      "metadata": {
        "colab": {
          "base_uri": "https://localhost:8080/"
        },
        "id": "4B1gSfwKCVaW",
        "outputId": "ff536ad7-7173-490f-da0e-888b9ff8ad99"
      },
      "execution_count": null,
      "outputs": [
        {
          "output_type": "stream",
          "name": "stdout",
          "text": [
            "(211, 11)\n"
          ]
        },
        {
          "output_type": "execute_result",
          "data": {
            "text/plain": [
              "associate's degree    46\n",
              "some college          42\n",
              "bachelor's degree     39\n",
              "high school           32\n",
              "master's degree       27\n",
              "some high school      25\n",
              "Name: education, dtype: int64"
            ]
          },
          "metadata": {},
          "execution_count": 13
        }
      ]
    },
    {
      "cell_type": "markdown",
      "source": [
        "12) 통계테스트해보기\n",
        "\n",
        "preparation_course을 \"completed\"한 그룹과 그렇지않은(\"none\") 그룹간에 \"math score\" 평균 점수의 차이를 t-test로 검정하는 코드를 작성하시오. 유의수준(p-value)는 0.05 이하를 가정한다.\n",
        "\n",
        "*   각 group에 대해서 평균과 표준편차를 구하여 출력한다.\n",
        "*   두 그룹에 대한 t-test는 scipy에서 제공하는 ttest_ind()를 사용한다.\n",
        "*   두 그룹간의 math score 분포를 가시화하기 위해 histplot을 사용하여 차트를 출력한다."
      ],
      "metadata": {
        "id": "hJm-1CjLFqZl"
      }
    },
    {
      "cell_type": "code",
      "source": [
        "df_group1 = df.loc[df[\"preparation_course\"] == \"completed\"]\n",
        "df_group2 = df.loc[df[\"preparation_course\"] == \"none\"]\n",
        "\n",
        "print(df_group1.head())\n",
        "print(df_group1.shape)\n",
        "\n",
        "print(df_group2.head())\n",
        "print(df_group2.shape)\n",
        "\n",
        "g1_math_score = df_group1[\"math score\"]\n",
        "g2_math_score = df_group2[\"math score\"]\n",
        "\n",
        "print(\"mean of group1: \", g1_math_score.mean())\n",
        "print(\"std of group1: \", g1_math_score.std())\n",
        "\n",
        "print(\"mean of group2: \", g2_math_score.mean())\n",
        "print(\"std of group2: \", g2_math_score.std())\n",
        "\n",
        "import scipy.stats as stats\n",
        "\n",
        "t_stat, pval = stats.ttest_ind(g1_math_score, g2_math_score)\n",
        "print(\"t_statistics\", t_stat, \" \", \"p-value\", pval)\n",
        "\n",
        "if pval < 0.05:\n",
        "    print(\"null hypothesis: samples are drawn from populations with the same population means\")\n",
        "    print(\"we can reject null hypothesis\")\n",
        "else:\n",
        "    print(\"null hypothesis: samples are drawn from populations with the same population means\")\n",
        "    print(\"we cannot reject null hypothesis\")\n",
        "\n",
        "\n",
        "import seaborn as sns\n",
        "import matplotlib.pyplot as plt\n",
        "\n",
        "sns.histplot(data=df, x='math score', hue='preparation_course', bins=50)"
      ],
      "metadata": {
        "colab": {
          "base_uri": "https://localhost:8080/",
          "height": 1000
        },
        "id": "ApXrd_VDFqgO",
        "outputId": "b1bba82d-bd07-4c57-df84-ec4bd8c8e93b"
      },
      "execution_count": null,
      "outputs": [
        {
          "output_type": "stream",
          "name": "stdout",
          "text": [
            "    gender race_ethnicity           education     lunch preparation_course  \\\n",
            "0     male        group A         high school  standard          completed   \n",
            "4     male        group E  associate's degree  standard          completed   \n",
            "7     male        group E        some college  standard          completed   \n",
            "10    male        group E        some college  standard          completed   \n",
            "11  female        group D         high school  standard          completed   \n",
            "\n",
            "    math score  reading score  writing score  score_sum  score_avg_1  \\\n",
            "0           67             67             63        197    65.666667   \n",
            "4           78             73             68        219    73.000000   \n",
            "7           93             88             84        265    88.333333   \n",
            "10          99             83             85        267    89.000000   \n",
            "11          80             87             90        257    85.666667   \n",
            "\n",
            "    score_avg_2  \n",
            "0     65.666667  \n",
            "4     73.000000  \n",
            "7     88.333333  \n",
            "10    89.000000  \n",
            "11    85.666667  \n",
            "(335, 11)\n",
            "   gender race_ethnicity          education         lunch preparation_course  \\\n",
            "1  female        group D   some high school  free/reduced               none   \n",
            "2    male        group E       some college  free/reduced               none   \n",
            "3    male        group B        high school      standard               none   \n",
            "5  female        group D        high school      standard               none   \n",
            "6  female        group A  bachelor's degree      standard               none   \n",
            "\n",
            "   math score  reading score  writing score  score_sum  score_avg_1  \\\n",
            "1          40             59             55        154    51.333333   \n",
            "2          59             60             50        169    56.333333   \n",
            "3          77             78             68        223    74.333333   \n",
            "5          63             77             76        216    72.000000   \n",
            "6          62             59             63        184    61.333333   \n",
            "\n",
            "   score_avg_2  \n",
            "1    51.333333  \n",
            "2    56.333333  \n",
            "3    74.333333  \n",
            "5    72.000000  \n",
            "6    61.333333  \n",
            "(665, 11)\n",
            "mean of group1:  69.68656716417911\n",
            "std of group1:  15.216805391542218\n",
            "mean of group2:  64.73834586466165\n",
            "std of group2:  15.23997162764822\n",
            "t_statistics 4.848630231559517   p-value 1.4411342280999462e-06\n",
            "null hypothesis: samples are drawn from populations with the same population means\n",
            "we can reject null hypothesis\n"
          ]
        },
        {
          "output_type": "execute_result",
          "data": {
            "text/plain": [
              "<matplotlib.axes._subplots.AxesSubplot at 0x7f7f69a30dd0>"
            ]
          },
          "metadata": {},
          "execution_count": 14
        },
        {
          "output_type": "display_data",
          "data": {
            "text/plain": [
              "<Figure size 432x288 with 1 Axes>"
            ],
            "image/png": "[encoded data removed]"
          },
          "metadata": {
            "needs_background": "light"
          }
        }
      ]
    }
  ]
}